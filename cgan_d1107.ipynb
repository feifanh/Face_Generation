{
 "cells": [
  {
   "cell_type": "code",
   "execution_count": 44,
   "metadata": {
    "collapsed": false
   },
   "outputs": [],
   "source": [
    "import tensorflow as tf\n",
    "from tensorflow.examples.tutorials.mnist import input_data\n",
    "import numpy as np\n",
    "import matplotlib.pyplot as plt\n",
    "import matplotlib.gridspec as gridspec\n",
    "import scipy.misc\n",
    "import pandas as pd\n",
    "import os\n",
    "\n",
    "\n",
    "# mnist = input_data.read_data_sets('../../MNIST_data', one_hot=True)\n",
    "\n",
    "mb_size = 16\n",
    "num_of_img = 10000\n",
    "Z_dim = 100\n",
    "X_dim = 116412\n",
    "y_dim = 23\n",
    "h_dim = 128"
   ]
  },
  {
   "cell_type": "code",
   "execution_count": 45,
   "metadata": {
    "collapsed": true
   },
   "outputs": [],
   "source": [
    "def xavier_init(size):\n",
    "    in_dim = size[0]\n",
    "    xavier_stddev = 1. / tf.sqrt(in_dim / 2.)\n",
    "    return tf.random_normal(shape=size, stddev=xavier_stddev)\n",
    "\n",
    "def sample_Z(m, n):\n",
    "    return np.random.uniform(-1., 1., size=[m, n])\n",
    "\n",
    "\n",
    "def plot(samples):\n",
    "    fig = plt.figure(figsize=(4, 4))\n",
    "    gs = gridspec.GridSpec(4, 4)\n",
    "    gs.update(wspace=0.05, hspace=0.05)\n",
    "\n",
    "    for i, sample in enumerate(samples):\n",
    "        ax = plt.subplot(gs[i])\n",
    "        plt.axis('off')\n",
    "        ax.set_xticklabels([])\n",
    "        ax.set_yticklabels([])\n",
    "        ax.set_aspect('equal')\n",
    "        # plt.imshow(sample.reshape(178, 218), cmap='Greys_r')\n",
    "        plt.imshow(sample.reshape(218, 178, 3))\n",
    "\n",
    "    return fig"
   ]
  },
  {
   "cell_type": "code",
   "execution_count": 46,
   "metadata": {
    "collapsed": false
   },
   "outputs": [
    {
     "name": "stdout",
     "output_type": "stream",
     "text": [
      "shape of attr: (10000, 23)\n",
      "shape of one image: (116412,)\n",
      "shape of X: (10000, 116412)\n"
     ]
    }
   ],
   "source": [
    "def load_train_data():\n",
    "    cols = [\"Arched_Eyebrows\", \"Bags_Under_Eyes\", \"Bangs\", \"Big_Lips\", \"Big_Nose\", \"Black_Hair\", \"Blond_Hair\", \"Brown_Hair\",\n",
    "       \"Bushy_Eyebrows\",\"Eyeglasses\",\"Heavy_Makeup\",\"High_Cheekbones\",\"Male\", \"Mouth_Slightly_Open\",\"Narrow_Eyes\",\n",
    "       \"No_Beard\",\"Oval_Face\",\"Pointy_Nose\",\"Smiling\",\"Straight_Hair\",\"Wavy_Hair\",\"Wearing_Hat\",\"Young\"]\n",
    "\n",
    "    attr = pd.read_csv('data/list_attr_celeba.csv', delim_whitespace=True, skiprows=1, usecols=cols)\n",
    "\n",
    "    attr = attr.values[:num_of_img]\n",
    "    print \"shape of attr: {}\".format(attr.shape)\n",
    "   \n",
    "    X = []\n",
    "\n",
    "    for i in xrange(num_of_img):\n",
    "        X_ = scipy.misc.imread('data/img_align_celeba/{:06d}.jpg'.format(i + 1))\n",
    "        X_ = X_.reshape(218 * 178 *3)\n",
    "        #X_ = np.concatenate([X_, attr[i]])\n",
    "        X.append(X_)\n",
    "\n",
    "    X = np.array(X)\n",
    "#     plt.imshow(X[0])\n",
    "   \n",
    "    print \"shape of one image: {}\".format(X[0].shape)\n",
    "    print \"shape of X: {}\".format(X.shape)\n",
    "    return X, attr\n",
    "\n",
    "\n",
    "# Load cifar-10 data\n",
    "celeb_data, attr = load_train_data()# / 255.0\n",
    "celeb_data = celeb_data / 255.0\n",
    "\n",
    "# x = tf.placeholder(tf.float32, shape=[None, 116435])\n",
    "# y = tf.placeholder(tf.float32, shape=[None, 23])\n",
    "    "
   ]
  },
  {
   "cell_type": "code",
   "execution_count": 47,
   "metadata": {
    "collapsed": true
   },
   "outputs": [],
   "source": [
    "def deconv2d(input, kernel_size, stride, num_filter):\n",
    "    stride_shape = [1, stride, stride, 1]\n",
    "    filter_shape = [kernel_size, kernel_size, input.shape[3], num_filter]\n",
    "\n",
    "    W = tf.get_variable('w', filter_shape, tf.float32, tf.random_normal_initializer(0.0, 0.02))\n",
    "    b = tf.get_variable('b', [1, 1, 1, num_filter], initializer=tf.constant_initializer(0.0))\n",
    "    return tf.nn.conv2d_transpose(input, W, stride_shape, padding='SAME') + b\n",
    "    \n",
    "def conv2d(input, kernel_size, stride, num_filter, W, b):\n",
    "    stride_shape = [1, stride, stride, 1]\n",
    "    filter_shape = [kernel_size, kernel_size, input.shape[3], num_filter]\n",
    "\n",
    "    # W = tf.get_variable('w', filter_shape, tf.float32, tf.random_normal_initializer(0.0, 0.02))\n",
    "    # print \"shape of W: \", W.shape\n",
    "#     b = tf.get_variable('b', [1, 1, 1, num_filter], initializer=tf.constant_initializer(0.0))\n",
    "    return tf.nn.conv2d(input, W, stride_shape, padding='SAME') + b\n",
    "\n",
    "def max_pool(input, kernel_size, stride):\n",
    "    ksize = [1, kernel_size, kernel_size, 1]\n",
    "    strides = [1, stride, stride, 1]\n",
    "    return tf.nn.max_pool(input, ksize=ksize, strides=strides, padding='SAME')"
   ]
  },
  {
   "cell_type": "code",
   "execution_count": 48,
   "metadata": {
    "collapsed": true
   },
   "outputs": [],
   "source": [
    "\"\"\" Discriminator Net model \"\"\"\n",
    "X = tf.placeholder(tf.float32, shape=[None, X_dim])\n",
    "y = tf.placeholder(tf.float32, shape=[None, y_dim])\n",
    "\n",
    "# D_W1 = tf.Variable(xavier_init([X_dim + y_dim, h_dim]))\n",
    "# D_b1 = tf.Variable(tf.zeros(shape=[h_dim]))\n",
    "output_dim = 64\n",
    "\n",
    "D_W1 = tf.Variable(xavier_init([5, 5, 3, output_dim]))\n",
    "D_b1 = tf.Variable(tf.zeros(shape=[output_dim]))\n",
    "\n",
    "# D_W2 = tf.Variable(xavier_init([h_dim, 1]))\n",
    "# D_b2 = tf.Variable(tf.zeros(shape=[1]))\n",
    "D_W2 = tf.Variable(xavier_init([5, 5, output_dim, output_dim * 2]))\n",
    "D_b2 = tf.Variable(tf.zeros(shape=[output_dim * 2]))\n",
    "\n",
    "D_W3 = tf.Variable(xavier_init([5, 5, output_dim * 2, output_dim * 4]))\n",
    "D_b3 = tf.Variable(tf.zeros(shape=[output_dim * 4]))\n",
    "\n",
    "theta_D = [D_W1, D_W2, D_W3, D_b1, D_b2, D_b3]\n",
    "\n",
    "\n",
    "def discriminator(x, y, symbol):\n",
    "    print (\"discriminator\") \n",
    "    print (\"shape x =\")\n",
    "    print (x.shape)\n",
    "    print (\"shape y =\")\n",
    "    print (y.shape)\n",
    "    \n",
    "    # inputs = tf.concat(axis=1, values=[x, y])\n",
    "    # (?, 178*218*3)\n",
    "    x = tf.reshape(x, [tf.shape(x)[0], 178, 218, 3])\n",
    "    #plt.imshow(tf.Session().run(x))\n",
    "    print \"x, y: \", x.shape, y.shape\n",
    "    with tf.variable_scope('conv1' + symbol):\n",
    "        D_h1 = tf.nn.relu(conv2d(x, 5, 2, output_dim, D_W1, D_b1))\n",
    "        #D_logit1 = max_pool(D_h1, 3, 2)\n",
    "        \n",
    "        print \"D_h1 shape: {}\".format(D_h1.shape)\n",
    "        #print \"D_logit1 shape: {}\".format(D_logit1.shape)\n",
    "        \n",
    "    with tf.variable_scope('conv2' + symbol):\n",
    "        D_h2 = tf.nn.relu(conv2d(D_h1, 5, 2, output_dim * 2, D_W2, D_b2))\n",
    "        #D_logit2 = max_pool(D_h2, 3, 2)\n",
    "        \n",
    "        print \"D_h1 shape: {}\".format(D_h2.shape)\n",
    "        \n",
    "    with tf.variable_scope('conv3' + symbol):\n",
    "        D_h3 = tf.nn.relu(conv2d(D_h2, 5, 2, output_dim * 4, D_W3, D_b3))\n",
    "        # D_logit3 = max_pool(D_h3, 3, 2)\n",
    "        \n",
    "        print \"D_h3 shape: {}\".format(D_h3.shape)\n",
    "        # print \"D_logit3 shape: {}\".format(D_logit3.shape)\n",
    "        \n",
    "    #flatten\n",
    "    flattened_image = tf.contrib.layers.flatten(D_h3)\n",
    "\n",
    "    #add atributes\n",
    "    image_attributes = tf.concat(axis=1, values=[flattened_image, y])\n",
    "\n",
    "    #fully connected layer\n",
    "    fc1 = tf.nn.relu(tf.contrib.layers.fully_connected(image_attributes, 128))\n",
    "    fc2 = tf.contrib.layers.fully_connected(fc1, 1, activation_fn = None)\n",
    "        \n",
    "        \n",
    "    #print \"shape of D_logit2{}\".format(D_logit2.shape)\n",
    "    \n",
    "    D_prob = tf.nn.sigmoid(fc2)\n",
    "    \n",
    "    # return D_prob, D_logit2\n",
    "    return D_prob, fc2"
   ]
  },
  {
   "cell_type": "code",
   "execution_count": 49,
   "metadata": {
    "collapsed": true
   },
   "outputs": [],
   "source": [
    "\"\"\" Generator Net model \"\"\"\n",
    "Z = tf.placeholder(tf.float32, shape=[None, Z_dim])\n",
    "\n",
    "G_W1 = tf.Variable(xavier_init([Z_dim + y_dim, h_dim]))\n",
    "G_b1 = tf.Variable(tf.zeros(shape=[h_dim]))\n",
    "\n",
    "G_W2 = tf.Variable(xavier_init([h_dim, X_dim]))\n",
    "G_b2 = tf.Variable(tf.zeros(shape=[X_dim])) \n",
    "\n",
    "theta_G = [G_W1, G_W2, G_b1, G_b2]\n",
    "\n",
    "def generator(z, y):\n",
    "    print (\"generator\") \n",
    "    print (\"shape z =\")\n",
    "    print (z.shape)\n",
    "    print (\"shape y =\")\n",
    "    print (y.shape)\n",
    "    inputs = tf.concat(axis=1, values=[z, y])\n",
    "    G_h1 = tf.nn.relu(tf.matmul(inputs, G_W1) + G_b1)\n",
    "    G_log_prob = tf.matmul(G_h1, G_W2) + G_b2\n",
    "    G_prob = tf.nn.sigmoid(G_log_prob)\n",
    "#     G_h1 = tf.nn.relu(tf.nn.conv2d_transpose(inputs, 5, 2, 32))\n",
    "#     G_log_prob = tf.nn.conv2d_transpose(G_h1, G_W2)\n",
    "\n",
    "    return G_prob"
   ]
  },
  {
   "cell_type": "code",
   "execution_count": 50,
   "metadata": {
    "collapsed": false,
    "scrolled": true
   },
   "outputs": [
    {
     "name": "stdout",
     "output_type": "stream",
     "text": [
      "generator\n",
      "shape z =\n",
      "(?, 100)\n",
      "shape y =\n",
      "(?, 23)\n",
      "discriminator\n",
      "shape x =\n",
      "(?, 116412)\n",
      "shape y =\n",
      "(?, 23)\n",
      "x, y:  (?, 178, 218, 3) (?, 23)\n",
      "D_h1 shape: (?, 89, 109, 64)\n",
      "D_h1 shape: (?, 45, 55, 128)\n",
      "D_h3 shape: (?, 23, 28, 256)\n",
      "discriminator\n",
      "shape x =\n",
      "(?, 116412)\n",
      "shape y =\n",
      "(?, 23)\n",
      "x, y:  (?, 178, 218, 3) (?, 23)\n",
      "D_h1 shape: (?, 89, 109, 64)\n",
      "D_h1 shape: (?, 45, 55, 128)\n",
      "D_h3 shape: (?, 23, 28, 256)\n"
     ]
    }
   ],
   "source": [
    "G_sample = generator(Z, y)\n",
    "D_real, D_logit_real = discriminator(X, y, 'real')\n",
    "D_fake, D_logit_fake = discriminator(G_sample, y, 'fake')\n",
    "\n",
    "D_loss_real = tf.reduce_mean(tf.nn.sigmoid_cross_entropy_with_logits(logits=D_logit_real, labels=tf.ones_like(D_logit_real)))\n",
    "D_loss_fake = tf.reduce_mean(tf.nn.sigmoid_cross_entropy_with_logits(logits=D_logit_fake, labels=tf.zeros_like(D_logit_fake)))\n",
    "D_loss = D_loss_real + D_loss_fake\n",
    "G_loss = tf.reduce_mean(tf.nn.sigmoid_cross_entropy_with_logits(logits=D_logit_fake, labels=tf.ones_like(D_logit_fake)))"
   ]
  },
  {
   "cell_type": "code",
   "execution_count": 51,
   "metadata": {
    "collapsed": false
   },
   "outputs": [
    {
     "name": "stdout",
     "output_type": "stream",
     "text": [
      "[-1, -1, 1, -1, -1, -1, 1, -1, -1, -1, -1, 1, 1, -1, 1, -1, 1, -1, 1, 1, -1, -1, 1]\n"
     ]
    }
   ],
   "source": [
    "features = [(\"Arched_Eyebrows\", -1), (\"Bags_Under_Eyes\", -1), (\"Bangs\", 1), (\"Big_Lips\", -1), (\"Big_Nose\", -1),\n",
    "            (\"Black_Hair\", -1), (\"Blond_Hair\", 1), (\"Brown_Hair\", -1), (\"Bushy_Eyebrows\", -1), (\"Eyeglasses\", -1),\n",
    "            (\"Heavy_Makeup\", -1), (\"High_Cheekbones\", 1), (\"Male\", 1), (\"Mouth_Slightly_Open\", -1), (\"Narrow_Eyes\", 1),\n",
    "            (\"No_Beard\", -1), (\"Oval_Face\", 1), (\"Pointy_Nose\", -1), (\"Smiling\", 1), \n",
    "            (\"Straight_Hair\", 1), (\"Wavy_Hair\", -1), (\"Wearing_Hat\", -1), (\"Young\", 1)]\n",
    "features = map(lambda x: x[1], features)\n",
    "print features"
   ]
  },
  {
   "cell_type": "code",
   "execution_count": null,
   "metadata": {
    "collapsed": false
   },
   "outputs": [],
   "source": [
    "def next_batch(num, data, labels):\n",
    "    '''\n",
    "    Return a total of `num` random samples and labels. \n",
    "    '''\n",
    "    idx = np.arange(0 , len(data))\n",
    "    np.random.shuffle(idx)\n",
    "    idx = idx[:num]\n",
    "    data_shuffle = [data[ i] for i in idx]\n",
    "    labels_shuffle = [labels[ i] for i in idx]\n",
    "\n",
    "    return np.asarray(data_shuffle), np.asarray(labels_shuffle)\n",
    "\n",
    "#print D_loss, tf.trainable_variables()\n",
    "#D_solver = tf.train.AdamOptimizer().minimize(D_loss, var_list=theta_D)\n",
    "#G_solver = tf.train.AdamOptimizer().minimize(G_loss, var_list=theta_G)\n",
    "\n",
    "\n",
    "D_solver = tf.train.AdamOptimizer(learning_rate = 8e-5,beta1=0.5,beta2=0.999).minimize(D_loss, var_list=theta_D)\n",
    "G_solver = tf.train.AdamOptimizer(learning_rate = 8e-5,beta1=0.5,beta2=0.999).minimize(G_loss, var_list=theta_G)\n",
    "\n",
    "\n",
    "sess = tf.Session()\n",
    "sess.run(tf.global_variables_initializer())\n",
    "\n",
    "if not os.path.exists('out_discriminator/'):\n",
    "    os.makedirs('out_discriminator/')\n",
    "\n",
    "i = 0\n",
    "\n",
    "for it in range(1000):\n",
    "    if it % 10 == 0:\n",
    "        n_sample = 16\n",
    "\n",
    "        Z_sample = sample_Z(n_sample, Z_dim)\n",
    "        # y_sample = np.zeros(shape=[n_sample, y_dim])\n",
    "        # y_sample[:, 7] = 1\n",
    "        # y_sample = np.array([-1, -1, 1, -1, -1, 1, -1, -1, -1, -1, 1, 1, -1, -1, -1, 1, 1, 1, 1, 1, -1, -1, 1])\n",
    "        # features = [-1, -1, 1, -1, -1, -1, 1, -1, -1, -1, 1, 1, 1, -1, -1, 1, 1, 1, 1, 1, -1, -1, 1]\n",
    "        y_sample = np.array(features)\n",
    "        y_sample = np.tile(y_sample, (16, 1))\n",
    "        #print y_sample.shape\n",
    "        \n",
    "\n",
    "        samples = sess.run(G_sample, feed_dict={Z: Z_sample, y:y_sample})\n",
    "\n",
    "        fig = plot(samples)\n",
    "        plt.savefig('out_discriminator/{}.png'.format(str(i).zfill(3)), bbox_inches='tight')\n",
    "        i += 1\n",
    "        plt.close(fig)\n",
    "    \n",
    "    # X_mb, y_mb = mnist.train.next_batch(mb_size)\n",
    "    X_mb, y_mb = next_batch(mb_size, celeb_data, attr)\n",
    "    #print \"*************************************\"\n",
    "    #print \"shape of y ={}\".format(y_mb.shape)\n",
    "    \n",
    "\n",
    "    Z_sample = sample_Z(mb_size, Z_dim)\n",
    "    \n",
    "    if it % 5:\n",
    "        _, D_loss_curr, D_real_cur, D_fake_cur = sess.run([D_solver, D_loss, D_real, D_fake], feed_dict={X: X_mb, Z: Z_sample, y:y_mb})\n",
    "    else:\n",
    "        _, G_loss_curr = sess.run([G_solver, G_loss], feed_dict={Z: Z_sample, y:y_mb})\n",
    "\n",
    "    if it % 10 == 0:\n",
    "        print('Iter: {}'.format(it))\n",
    "        print('D real mean: {}'. format(D_real_cur.mean()))\n",
    "        print('D fake mean: {}'. format(D_fake_cur.mean()))\n",
    "        print('D loss: {:.4}'. format(D_loss_curr))\n",
    "        print('G_loss: {:.4}'.format(G_loss_curr))\n",
    "        print()"
   ]
  },
  {
   "cell_type": "code",
   "execution_count": null,
   "metadata": {
    "collapsed": true
   },
   "outputs": [],
   "source": []
  },
  {
   "cell_type": "code",
   "execution_count": null,
   "metadata": {
    "collapsed": true
   },
   "outputs": [],
   "source": []
  }
 ],
 "metadata": {
  "kernelspec": {
   "display_name": "Python 2",
   "language": "python",
   "name": "python2"
  },
  "language_info": {
   "codemirror_mode": {
    "name": "ipython",
    "version": 2
   },
   "file_extension": ".py",
   "mimetype": "text/x-python",
   "name": "python",
   "nbconvert_exporter": "python",
   "pygments_lexer": "ipython2",
   "version": "2.7.13"
  }
 },
 "nbformat": 4,
 "nbformat_minor": 2
}
